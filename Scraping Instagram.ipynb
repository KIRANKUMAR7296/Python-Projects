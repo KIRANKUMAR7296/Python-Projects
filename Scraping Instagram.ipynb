{
 "cells": [
  {
   "cell_type": "markdown",
   "metadata": {},
   "source": [
    "# Scraping Instagram"
   ]
  },
  {
   "cell_type": "code",
   "execution_count": 1,
   "metadata": {},
   "outputs": [
    {
     "name": "stderr",
     "output_type": "stream",
     "text": [
      "C:\\Users\\Kirankumar\\anaconda3\\lib\\site-packages\\win_unicode_console\\__init__.py:31: RuntimeWarning: sys.stdin.encoding == 'cp1252', whereas sys.stdout.encoding == 'UTF-8', readline hook consumer may assume they are the same\n",
      "  readline_hook.enable(use_pyreadline=use_pyreadline)\n"
     ]
    }
   ],
   "source": [
    "import instaloader\n",
    "insta = instaloader.Instaloader()"
   ]
  },
  {
   "cell_type": "code",
   "execution_count": 2,
   "metadata": {},
   "outputs": [
    {
     "name": "stdout",
     "output_type": "stream",
     "text": [
      "<class 'instaloader.structures.Profile'>\n"
     ]
    }
   ],
   "source": [
    "profile = instaloader.Profile.from_username(insta.context,'aquarian7296')\n",
    "\n",
    "print(type(profile))"
   ]
  },
  {
   "cell_type": "code",
   "execution_count": 3,
   "metadata": {},
   "outputs": [
    {
     "name": "stdout",
     "output_type": "stream",
     "text": [
      "Username : aquarian7296\n",
      "User ID : 2927537333\n",
      "Posts : 20\n",
      "Followers : 161\n",
      "Following : 150\n",
      "Bio : Data Scientist\n"
     ]
    }
   ],
   "source": [
    "print(f'Username : {profile.username}')\n",
    "print(f'User ID : {profile.userid}')\n",
    "print(f'Posts : {profile.mediacount}')\n",
    "print(f'Followers : {profile.followers}')\n",
    "print(f'Following : {profile.followees}')\n",
    "print(f'Bio : {profile.biography}')"
   ]
  },
  {
   "cell_type": "markdown",
   "metadata": {},
   "source": [
    "### Login"
   ]
  },
  {
   "cell_type": "code",
   "execution_count": 4,
   "metadata": {},
   "outputs": [],
   "source": [
    "# insta.login(user =\"User Name\", passwd = \"Password\")\n",
    "\n",
    "# insta.interactive_login(\"User Name\") # Ask Password in Terminal"
   ]
  },
  {
   "cell_type": "markdown",
   "metadata": {},
   "source": [
    "### Scrape Instagram Followers and Followings\n",
    "\n",
    "Following Details will work only after login."
   ]
  },
  {
   "cell_type": "code",
   "execution_count": 5,
   "metadata": {},
   "outputs": [],
   "source": [
    "# followers = [follower.username for follower in profile.get_followers()]\n",
    "\n",
    "# following = [followee.username for followee in profile.get_followees()]"
   ]
  },
  {
   "cell_type": "markdown",
   "metadata": {},
   "source": [
    "### Downloading Posts from another profile."
   ]
  },
  {
   "cell_type": "code",
   "execution_count": 6,
   "metadata": {},
   "outputs": [
    {
     "name": "stdout",
     "output_type": "stream",
     "text": [
      "aquarian7296\\2017-07-10_03-00-55_UTC.jpg [LIVE FOCUS] comments json \n",
      "aquarian7296\\2017-07-03_07-58-19_UTC.jpg [PLAYFUL KITTIES] comments json \n",
      "aquarian7296\\2017-06-25_15-30-20_UTC.jpg [SURVIVAL] comments json \n",
      "aquarian7296\\2017-06-13_16-59-07_UTC.jpg [RETRO] comments json \n",
      "aquarian7296\\2017-06-12_12-05-08_UTC.jpg [W10] comments json \n",
      "aquarian7296\\2017-06-07_04-05-33_UTC.jpg [TUV] json \n",
      "aquarian7296\\2017-05-04_16-01-21_UTC.jpg [SWEETEST] comments json \n",
      "aquarian7296\\2017-04-16_15-55-27_UTC.jpg [SPRING] comments json \n",
      "aquarian7296\\2017-02-03_08-21-05_UTC.jpg [VINTAGE] json \n",
      "aquarian7296\\2017-01-29_11-54-48_UTC.jpg [GLASS] json \n",
      "aquarian7296\\2017-01-28_06-44-52_UTC.jpg [XAVIER] comments json \n",
      "aquarian7296\\2016-12-02_05-01-52_UTC.jpg [W10 CONSOLE] json \n",
      "aquarian7296\\2016-11-27_12-11-01_UTC.jpg [PUPPIES] json \n",
      "aquarian7296\\2016-11-23_03-30-40_UTC.jpg [HAPPINESS] json \n",
      "aquarian7296\\2016-11-12_15-38-07_UTC.jpg [BUNNY] json \n",
      "aquarian7296\\2016-11-09_11-54-59_UTC.jpg [BABY PANDA] comments json \n",
      "aquarian7296\\2016-11-08_13-55-54_UTC.jpg [CUTE PARROT] json \n",
      "aquarian7296\\2016-09-04_08-28-22_UTC.jpg [CUTE GANESHA] json \n",
      "aquarian7296\\2016-08-07_16-02-34_UTC.jpg [ME] json \n",
      "aquarian7296\\2016-08-02_14-41-18_UTC.jpg [PLUVIOPHILE] comments json \n"
     ]
    }
   ],
   "source": [
    "# Load New Profile\n",
    "profile = instaloader.Profile.from_username(insta.context, 'aquarian7296')\n",
    "\n",
    "# Get all posts \n",
    "post = profile.get_posts()\n",
    "\n",
    "# Download all Posts \n",
    "for index, post in enumerate(post,1):\n",
    "    insta.download_post(post, target=f\"{profile.username}\")"
   ]
  }
 ],
 "metadata": {
  "kernelspec": {
   "display_name": "Python 3",
   "language": "python",
   "name": "python3"
  },
  "language_info": {
   "codemirror_mode": {
    "name": "ipython",
    "version": 3
   },
   "file_extension": ".py",
   "mimetype": "text/x-python",
   "name": "python",
   "nbconvert_exporter": "python",
   "pygments_lexer": "ipython3",
   "version": "3.8.5"
  }
 },
 "nbformat": 4,
 "nbformat_minor": 4
}
