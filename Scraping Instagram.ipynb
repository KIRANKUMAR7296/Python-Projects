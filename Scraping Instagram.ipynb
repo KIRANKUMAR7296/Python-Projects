{
 "cells": [
  {
   "cell_type": "markdown",
   "metadata": {},
   "source": [
    "# Scraping Instagram"
   ]
  },
  {
   "cell_type": "code",
   "execution_count": 1,
   "metadata": {},
   "outputs": [
    {
     "name": "stderr",
     "output_type": "stream",
     "text": [
      "C:\\Users\\Kirankumar\\anaconda3\\lib\\site-packages\\win_unicode_console\\__init__.py:31: RuntimeWarning: sys.stdin.encoding == 'cp1252', whereas sys.stdout.encoding == 'UTF-8', readline hook consumer may assume they are the same\n",
      "  readline_hook.enable(use_pyreadline=use_pyreadline)\n"
     ]
    }
   ],
   "source": [
    "import instaloader\n",
    "insta = instaloader.Instaloader()"
   ]
  },
  {
   "cell_type": "code",
   "execution_count": 2,
   "metadata": {},
   "outputs": [
    {
     "name": "stdout",
     "output_type": "stream",
     "text": [
      "<class 'instaloader.structures.Profile'>\n"
     ]
    }
   ],
   "source": [
    "profile = instaloader.Profile.from_username(insta.context,'aquarian7296')\n",
    "\n",
    "print(type(profile))"
   ]
  },
  {
   "cell_type": "code",
   "execution_count": 3,
   "metadata": {},
   "outputs": [
    {
     "name": "stdout",
     "output_type": "stream",
     "text": [
      "Username : aquarian7296\n",
      "User ID : 2927537333\n",
      "Posts : 20\n",
      "Followers : 161\n",
      "Following : 150\n",
      "Bio : Data Scientist\n"
     ]
    }
   ],
   "source": [
    "print(f'Username : {profile.username}')\n",
    "print(f'User ID : {profile.userid}')\n",
    "print(f'Posts : {profile.mediacount}')\n",
    "print(f'Followers : {profile.followers}')\n",
    "print(f'Following : {profile.followees}')\n",
    "print(f'Bio : {profile.biography}')"
   ]
  },
  {
   "cell_type": "markdown",
   "metadata": {},
   "source": [
    "### Login"
   ]
  },
  {
   "cell_type": "code",
   "execution_count": null,
   "metadata": {},
   "outputs": [],
   "source": [
    "# insta.login(user =\"User Name\", passwd = \"Password\")\n",
    "\n",
    "# insta.interactive_login(\"User Name\") # Ask Password in Terminal"
   ]
  }
 ],
 "metadata": {
  "kernelspec": {
   "display_name": "Python 3",
   "language": "python",
   "name": "python3"
  },
  "language_info": {
   "codemirror_mode": {
    "name": "ipython",
    "version": 3
   },
   "file_extension": ".py",
   "mimetype": "text/x-python",
   "name": "python",
   "nbconvert_exporter": "python",
   "pygments_lexer": "ipython3",
   "version": "3.8.5"
  }
 },
 "nbformat": 4,
 "nbformat_minor": 4
}
