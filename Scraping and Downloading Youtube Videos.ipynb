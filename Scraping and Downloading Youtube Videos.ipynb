{
 "cells": [
  {
   "cell_type": "markdown",
   "metadata": {},
   "source": [
    "# Scraping YouTube\n",
    "\n",
    "**pytube** : Extract Data from **YouTube** "
   ]
  },
  {
   "cell_type": "code",
   "execution_count": 1,
   "metadata": {},
   "outputs": [],
   "source": [
    "from pytube import YouTube"
   ]
  },
  {
   "cell_type": "code",
   "execution_count": 2,
   "metadata": {},
   "outputs": [
    {
     "name": "stdout",
     "output_type": "stream",
     "text": [
      "Enter Link of YouTube Videos : https://www.youtube.com/watch?v=Y0cuYWiLc9A&ab_channel=Log2Base2\n",
      "\n",
      "Title : Gain Knowledge | Solve Puzzles  | Develop Problem Solving Skills | All in a Single Page | Log2Base2\n",
      "\n",
      "Views : 226\n",
      "\n",
      "Duration : 30\n",
      "\n",
      "Description : Get Started Now: https://log2base2.com/\n",
      "\n",
      "Ratings : 5\n"
     ]
    }
   ],
   "source": [
    "link = input(\"Enter Link of YouTube Videos : \")\n",
    "yt = YouTube(link)\n",
    "\n",
    "# Title\n",
    "print(f'\\nTitle : {yt.title}\\n')\n",
    "\n",
    "# Number of Views\n",
    "print(f'Views : {yt.views}\\n')\n",
    "\n",
    "# Length of Video\n",
    "print(f'Duration : {yt.length}\\n')\n",
    "\n",
    "# Description\n",
    "print(f'Description : {yt.description}\\n')\n",
    "\n",
    "# Ratings\n",
    "print(f'Ratings : {yt.rating}')"
   ]
  },
  {
   "cell_type": "markdown",
   "metadata": {},
   "source": [
    "### Download Video"
   ]
  },
  {
   "cell_type": "code",
   "execution_count": 3,
   "metadata": {},
   "outputs": [
    {
     "name": "stdout",
     "output_type": "stream",
     "text": [
      "Download Completed 👦🏻✌🏻\n"
     ]
    }
   ],
   "source": [
    "yt.streams.get_highest_resolution().download()\n",
    "print('Download Completed 👦🏻✌🏻')"
   ]
  }
 ],
 "metadata": {
  "kernelspec": {
   "display_name": "Python 3",
   "language": "python",
   "name": "python3"
  },
  "language_info": {
   "codemirror_mode": {
    "name": "ipython",
    "version": 3
   },
   "file_extension": ".py",
   "mimetype": "text/x-python",
   "name": "python",
   "nbconvert_exporter": "python",
   "pygments_lexer": "ipython3",
   "version": "3.8.5"
  }
 },
 "nbformat": 4,
 "nbformat_minor": 4
}
